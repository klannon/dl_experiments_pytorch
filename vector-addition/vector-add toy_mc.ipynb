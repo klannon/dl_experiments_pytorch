{
 "cells": [
  {
   "cell_type": "code",
   "execution_count": null,
   "metadata": {},
   "outputs": [],
   "source": [
    "import random, math\n",
    "import numpy as np\n",
    "\n",
    "twoPi = 2*math.pi\n",
    "\n",
    "# User input\n",
    "nGen = 100\n",
    "\n",
    "inputs = []\n",
    "outputs = []\n",
    "\n",
    "for iEvt in range(nGen):\n",
    "\n",
    "    # Make particles X, Y and save their momentum vectors\n",
    "    xPx = random.uniform(0,100)\n",
    "    xPy = random.uniform(0,100)\n",
    "    xPz = random.uniform(0,100)\n",
    "    \n",
    "    yPx = random.uniform(0,100)\n",
    "    yPy = random.uniform(0,100)\n",
    "    yPz = random.uniform(0,100)\n",
    "\n",
    "    xVect = np.array([xPx, xPy, xPz])\n",
    "    yVect = np.array([yPx, yPy, yPz])\n",
    "    \n",
    "    # Add components to get outputs\n",
    "    in_vector = np.append(xVect, yVect)\n",
    "    out_vector = np.array([xPx+yPx, xPy+yPy, xPz+yPz])\n",
    "    \n",
    "    inputs.append(in_vector)\n",
    "    outputs.append(out_vector)\n",
    "\n",
    "np.savez_compressed('vector_add_dataset.npz', inputs=inputs, outputs=outputs)\n",
    "\n",
    "print('Done!')"
   ]
  },
  {
   "cell_type": "code",
   "execution_count": null,
   "metadata": {},
   "outputs": [],
   "source": []
  }
 ],
 "metadata": {
  "kernelspec": {
   "display_name": "Python 3",
   "language": "python",
   "name": "python3"
  },
  "language_info": {
   "codemirror_mode": {
    "name": "ipython",
    "version": 3
   },
   "file_extension": ".py",
   "mimetype": "text/x-python",
   "name": "python",
   "nbconvert_exporter": "python",
   "pygments_lexer": "ipython3",
   "version": "3.6.4"
  }
 },
 "nbformat": 4,
 "nbformat_minor": 2
}
