{
 "cells": [
  {
   "cell_type": "code",
   "execution_count": null,
   "metadata": {},
   "outputs": [],
   "source": [
    "import torch\n",
    "import torch.nn as nn\n",
    "import torchvision.transforms as transforms\n",
    "import torch.optim as optim\n",
    "import numpy as np\n",
    "import pandas as pd\n",
    "import copy\n",
    "import matplotlib.pyplot as plt\n",
    "import collections\n",
    "from collections import OrderedDict"
   ]
  },
  {
   "cell_type": "code",
   "execution_count": null,
   "metadata": {},
   "outputs": [],
   "source": [
    "infile_test = 'vector_add_dataset_test.npz'\n",
    "infile_train = 'vector_add_dataset.npz'"
   ]
  },
  {
   "cell_type": "code",
   "execution_count": null,
   "metadata": {},
   "outputs": [],
   "source": [
    "npfile_test = np.load(infile_test)\n",
    "inputs_test = npfile_test['inputs']\n",
    "outputs_test = npfile_test['outputs']\n",
    "\n",
    "npfile_train = np.load(infile_train)\n",
    "inputs_train = npfile_train['inputs']\n",
    "outputs_train = npfile_train['outputs']"
   ]
  },
  {
   "cell_type": "code",
   "execution_count": null,
   "metadata": {},
   "outputs": [],
   "source": [
    "model = torch.load('v_add_model')"
   ]
  },
  {
   "cell_type": "markdown",
   "metadata": {},
   "source": [
    "## Test with a set of vectors"
   ]
  },
  {
   "cell_type": "code",
   "execution_count": null,
   "metadata": {},
   "outputs": [],
   "source": [
    "# standardize the input vectors\n",
    "inputMeans = inputs_train[0:int(inputs_train.shape[0]),:].mean(axis=0)\n",
    "inputStdDevs = inputs_train[0:int(inputs_train.shape[0]),:].std(axis=0)\n",
    "testset_np = (inputs_test-inputMeans)/inputStdDevs\n",
    "testset = torch.tensor(testset_np).float()\n",
    "\n",
    "outputMeans = outputs[0:int(outputs.shape[0]),:].mean(axis=0)\n",
    "outputStdDevs = outputs[0:int(outputs.shape[0]),:].std(axis=0)\n",
    "\n",
    "# put standardized input vectors through model\n",
    "results = []\n",
    "targets = []\n",
    "errors = []\n",
    "\n",
    "for i in range(len(testset)):\n",
    "    # get model output\n",
    "    model.eval()\n",
    "    test_output = model(testset[i])\n",
    "    test_output = test_output.detach().numpy()\n",
    "    \n",
    "    # unstandardize output\n",
    "    test_result = (test_output*outputStdDevs)+outputMeans\n",
    "    results.append(test_result)\n",
    "    \n",
    "    # get target result\n",
    "    targ_vec = outputs_test[i]\n",
    "    targets.append(targ_vec)\n",
    "    \n",
    "    # get accuracy\n",
    "    diff = np.linalg.norm(targ_vec - test_result)\n",
    "    mag = np.linalg.norm(targ_vec)\n",
    "    error = (diff/mag)*100\n",
    "    errors.append(error)"
   ]
  },
  {
   "cell_type": "code",
   "execution_count": null,
   "metadata": {},
   "outputs": [],
   "source": [
    "np.mean(errors)"
   ]
  },
  {
   "cell_type": "markdown",
   "metadata": {},
   "source": [
    "## Test with one vector"
   ]
  },
  {
   "cell_type": "code",
   "execution_count": null,
   "metadata": {},
   "outputs": [],
   "source": [
    "# testing the model with a chosen vector\n",
    "vector1 = np.array([.50,.50,.50])\n",
    "vector2 = np.array([.50,.50,.50])\n",
    "\n",
    "testvec = np.append(vector1,vector2)\n",
    "\n",
    "# standardize the input vector\n",
    "inputMeans = inputs_train[0:int(inputs_train.shape[0]),:].mean(axis=0)\n",
    "inputStdDevs = inputs_train[0:int(inputs_train.shape[0]),:].std(axis=0)\n",
    "test_input = (testvec-inputMeans)/inputStdDevs\n",
    "test_input = torch.tensor(test_input).float()\n",
    "\n",
    "# put standardized input vector through model\n",
    "model.eval()\n",
    "test_output = model(test_input)\n",
    "test_output = test_output.detach().numpy()\n",
    "\n",
    "# unstandardizing the output\n",
    "outputMeans = outputs_train[0:int(outputs_train.shape[0]),:].mean(axis=0)\n",
    "outputStdDevs = outputs_train[0:int(outputs_train.shape[0]),:].std(axis=0)\n",
    "    \n",
    "test_result = (test_output*outputStdDevs)+outputMeans\n",
    "\n",
    "print('model output = {}'.format(test_result))\n",
    "\n",
    "# compare to target output\n",
    "x_targ = vector1[0] + vector2[0]\n",
    "y_targ = vector1[1] + vector2[1]\n",
    "z_targ = vector1[2] + vector2[2]\n",
    "\n",
    "targ_vec = np.array([x_targ, y_targ, z_targ])\n",
    "\n",
    "print('target output = {}'.format(targ_vec))\n",
    "\n",
    "# measure accuracy\n",
    "diff = np.linalg.norm(targ_vec - test_result)\n",
    "mag = np.linalg.norm(targ_vec)\n",
    "error = (diff/mag)*100\n",
    "acc = 100 - error\n",
    "print('error = {}%'.format(error))\n",
    "print('accuracy = {}%'.format(acc))"
   ]
  }
 ],
 "metadata": {
  "kernelspec": {
   "display_name": "Python 3",
   "language": "python",
   "name": "python3"
  },
  "language_info": {
   "codemirror_mode": {
    "name": "ipython",
    "version": 3
   },
   "file_extension": ".py",
   "mimetype": "text/x-python",
   "name": "python",
   "nbconvert_exporter": "python",
   "pygments_lexer": "ipython3",
   "version": "3.6.4"
  }
 },
 "nbformat": 4,
 "nbformat_minor": 2
}
