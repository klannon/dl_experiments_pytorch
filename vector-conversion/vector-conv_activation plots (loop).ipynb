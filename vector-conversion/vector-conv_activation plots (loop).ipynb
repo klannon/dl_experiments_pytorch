{
 "cells": [
  {
   "cell_type": "code",
   "execution_count": null,
   "metadata": {},
   "outputs": [],
   "source": [
    "import torch\n",
    "import numpy as np\n",
    "import pandas as pd\n",
    "import matplotlib.pyplot as plt\n",
    "import seaborn as sns"
   ]
  },
  {
   "cell_type": "markdown",
   "metadata": {},
   "source": [
    "## User Inputs"
   ]
  },
  {
   "cell_type": "code",
   "execution_count": null,
   "metadata": {},
   "outputs": [],
   "source": [
    "infile_test = 'vector_conversion_dataset_test.npz'\n",
    "infile_train = 'vector_conversion_dataset.npz'\n",
    "numtrials = 5\n",
    "numfuncs = 3"
   ]
  },
  {
   "cell_type": "markdown",
   "metadata": {},
   "source": [
    "## Loading Data and Model"
   ]
  },
  {
   "cell_type": "code",
   "execution_count": null,
   "metadata": {},
   "outputs": [],
   "source": [
    "npfile_test = np.load(infile_test)\n",
    "inputs_test = npfile_test['inputs']\n",
    "targets_test = npfile_test['outputs']\n",
    "\n",
    "npfile_train = np.load(infile_train)\n",
    "inputs_test = npfile_train['inputs']\n",
    "targets_test = npfile_train['outputs']"
   ]
  },
  {
   "cell_type": "code",
   "execution_count": null,
   "metadata": {},
   "outputs": [],
   "source": [
    "func = 0\n",
    "trial = 0\n",
    "\n",
    "for func in range(1,numfuncs+1):\n",
    "    for trial in range(1,numtrials+1):\n",
    "\n",
    "        model_path = 'v_conv_model_10node_fn{}_{}'.format(func,trial)\n",
    "        model = torch.load(model_path)\n",
    "\n",
    "        # standardize inputs\n",
    "        inputMeans = inputs_train[0:int(inputs_train.shape[0]),:].mean(axis=0)\n",
    "        inputStdDevs = inputs_train[0:int(inputs_train.shape[0]),:].std(axis=0)\n",
    "        inputs = (inputs_test-inputMeans)/inputStdDevs\n",
    "        inputs = torch.from_numpy(inputs).float()\n",
    "\n",
    "        # get model outputs\n",
    "        output = model(inputs)\n",
    "        output = output.data.numpy()\n",
    "\n",
    "        # unstandardize outputs\n",
    "        outputMeans = targets_train[0:int(targets_train.shape[0]),:].mean(axis=0) \n",
    "        outputStdDevs = targets_train[0:int(targets_train.shape[0]),:].std(axis=0)\n",
    "\n",
    "        output = output*outputStdDevs+outputMeans\n",
    "\n",
    "        # calculate differences for every element\n",
    "        diff = targets_test-output\n",
    "\n",
    "        # set maxes, mins\n",
    "        minDiff = np.amin(diff,axis=0)\n",
    "        maxDiff = np.amax(diff,axis=0)\n",
    "        stdDiff = np.std(diff,axis=0)\n",
    "        meanDiff = np.mean(diff,axis=0)\n",
    "        minTarget = np.amin(target,axis=0)\n",
    "        maxTarget = np.amax(target,axis=0)\n",
    "        minOutput = np.amin(output,axis=0)\n",
    "        maxOutput = np.amax(output,axis=0)\n",
    "        minInput = np.amin(inputs,axis=0)\n",
    "        maxInput = np.amax(inputs,axis=0)\n",
    "\n",
    "        ## Generating Plots\n",
    "\n",
    "        # create a histogram for each output in the target\n",
    "\n",
    "        for itarg in range(target.shape[1]):\n",
    "\n",
    "            diffarray = diff[:,itarg]\n",
    "            targetarray = targets_test[:,itarg]\n",
    "            outputarray = output[:,itarg]\n",
    "            inputsarray = inputs_test[:,itarg]\n",
    "    \n",
    "            fig1 = plt.figure()\n",
    "            plt.hist(diffarray, bins=100)\n",
    "            plt.title('Target - Output (index:{})'.format(itarg))\n",
    "            plt.xlim(meanDiff[itarg]-3*stdDiff[itarg],meanDiff[itarg]+3*stdDiff[itarg])\n",
    "            plt.figure(figsize=(20,15))\n",
    "            fig1.savefig('./histograms/v_conv_10nodes/fn{}/test{}/hist_1_{}.png'.format(func,trial,itarg), format='png')\n",
    "    \n",
    "            fig2 = plt.figure()\n",
    "            plt.hist2d(targetarray,outputarray, bins=400)\n",
    "            plt.title('Output vs Target (index:{})'.format(itarg))\n",
    "            plt.xlim(minTarget[itarg],maxTarget[itarg])\n",
    "            plt.ylim(minOutput[itarg],maxOutput[itarg])\n",
    "            plt.figure(figsize=(20,15))\n",
    "            fig2.savefig('./histograms/v_conv_10nodes/fn{}/test{}/hist_2_{}.png'.format(func,trial,itarg), format='png')\n",
    "            \n",
    "            fig3 = plt.figure()\n",
    "            sns.regplot(x=targetarray, y=diffarray, x_bins=400, fit_reg=None)\n",
    "            plt.title('Prof(Output) vs Target (index:{})'.format(itarg))\n",
    "            plt.xlim(minTarget[itarg],maxTarget[itarg])\n",
    "            plt.figure(figsize=(20,15))\n",
    "            fig3.savefig('./histograms/v_conv_10nodes/fn{}/test{}/hist_3_{}.png'.format(func,trial,itarg), format='png')\n",
    "            \n",
    "            fig4 = plt.figure()\n",
    "            plt.hist2d(inputsarray,outputarray, bins=400)\n",
    "            plt.title('O_{{{0}}} vs I_{{{0}}}'.format(itarg))\n",
    "            plt.xlim(minOutput[itarg],maxOutput[itarg])\n",
    "            plt.ylim(minInput[itarg],maxInput[itarg])\n",
    "            plt.figure(figsize=(20,15))\n",
    "            fig4.savefig('./histograms/v_conv_10nodes/fn{}/test{}/hist_4_{}.png'.format(func,trial,itarg), format='png')\n",
    "            \n",
    "            fig5 = plt.figure()\n",
    "            sns.regplot(x=inputsarray, y=diffarray, x_bins=400, fit_reg=None)\n",
    "            plt.title('Prof(Output) vs Input (index:{})'.format(itarg))\n",
    "            plt.xlim(minInput[itarg],maxInput[itarg])\n",
    "            plt.figure(figsize=(20,15))\n",
    "            fig5.savefig('./histograms/v_conv_10nodes/fn{}/test{}/hist_5_{}.png'.format(func,trial,itarg), format='png')             \n",
    "            "
   ]
  },
  {
   "cell_type": "code",
   "execution_count": null,
   "metadata": {},
   "outputs": [],
   "source": []
  }
 ],
 "metadata": {
  "kernelspec": {
   "display_name": "Python 3",
   "language": "python",
   "name": "python3"
  },
  "language_info": {
   "codemirror_mode": {
    "name": "ipython",
    "version": 3
   },
   "file_extension": ".py",
   "mimetype": "text/x-python",
   "name": "python",
   "nbconvert_exporter": "python",
   "pygments_lexer": "ipython3",
   "version": "3.6.4"
  }
 },
 "nbformat": 4,
 "nbformat_minor": 2
}
