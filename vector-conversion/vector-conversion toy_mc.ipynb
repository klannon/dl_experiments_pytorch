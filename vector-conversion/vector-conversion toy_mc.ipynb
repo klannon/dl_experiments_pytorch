{
 "cells": [
  {
   "cell_type": "code",
   "execution_count": null,
   "metadata": {},
   "outputs": [],
   "source": [
    "import random, math\n",
    "import numpy as np\n",
    "\n",
    "twoPi = 2*math.pi\n",
    "\n",
    "#User input\n",
    "nGen = 10000\n",
    "\n",
    "inputs = []\n",
    "outputs = []\n",
    "\n",
    "for iEvt in range(nGen):\n",
    "\n",
    "    # Make particle X\n",
    "    xPt = random.uniform(0,300)\n",
    "    xPhi = random.uniform(0,twoPi)\n",
    "    xEta = random.uniform(-2.5,2.5)\n",
    "    \n",
    "    # Convert to cartesian momenta\n",
    "    xPx = xPt * np.cos(xPhi)\n",
    "    xPy = xPt * np.sin(xPhi)\n",
    "    xPz = xPt * np.sinh(xEta)\n",
    "  \n",
    "\n",
    "    # Start with a null vector and then set pt, eta, phi, and mass\n",
    "    in_vector = np.array([xPt, xPhi, xEta])\n",
    "    out_vector = np.array([xPx, xPy, xPz])\n",
    "\n",
    "    inputs.append(in_vector)\n",
    "    outputs.append(out_vector)\n",
    "\n",
    "np.savez_compressed('vector_conversion_dataset.npz', inputs=inputs, outputs=outputs)\n",
    "\n",
    "print('Done!')"
   ]
  },
  {
   "cell_type": "code",
   "execution_count": null,
   "metadata": {},
   "outputs": [],
   "source": []
  }
 ],
 "metadata": {
  "kernelspec": {
   "display_name": "Python 3",
   "language": "python",
   "name": "python3"
  },
  "language_info": {
   "codemirror_mode": {
    "name": "ipython",
    "version": 3
   },
   "file_extension": ".py",
   "mimetype": "text/x-python",
   "name": "python",
   "nbconvert_exporter": "python",
   "pygments_lexer": "ipython3",
   "version": "3.6.4"
  }
 },
 "nbformat": 4,
 "nbformat_minor": 2
}
