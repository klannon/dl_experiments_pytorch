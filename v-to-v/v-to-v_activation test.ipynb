{
 "cells": [
  {
   "cell_type": "code",
   "execution_count": null,
   "metadata": {},
   "outputs": [],
   "source": [
    "import torch\n",
    "import torch.nn as nn\n",
    "import torchvision.transforms as transforms\n",
    "import torch.optim as optim\n",
    "import numpy as np\n",
    "import pandas as pd\n",
    "import copy\n",
    "import matplotlib.pyplot as plt\n",
    "import collections\n",
    "from collections import OrderedDict"
   ]
  },
  {
   "cell_type": "code",
   "execution_count": null,
   "metadata": {},
   "outputs": [],
   "source": [
    "infile_test = 'vtov_dataset_test.npz'\n",
    "infile_train = 'vtov_dataset.npz'"
   ]
  },
  {
   "cell_type": "code",
   "execution_count": null,
   "metadata": {},
   "outputs": [],
   "source": [
    "npfile_test = np.load(infile_test)\n",
    "inputs_test = npfile_test['inputs']\n",
    "outputs_test = npfile_test['outputs']\n",
    "\n",
    "npfile_train = np.load(infile_train)\n",
    "inputs_train = npfile_train['inputs']\n",
    "outputs_train = npfile_train['outputs']"
   ]
  },
  {
   "cell_type": "code",
   "execution_count": null,
   "metadata": {},
   "outputs": [],
   "source": [
    "model = torch.load('vtov_model_3nodes_fn1_1')"
   ]
  },
  {
   "cell_type": "markdown",
   "metadata": {},
   "source": [
    "## Test with a set of vectors"
   ]
  },
  {
   "cell_type": "code",
   "execution_count": null,
   "metadata": {},
   "outputs": [],
   "source": [
    "# standardize the input vectors\n",
    "inputMeans = inputs_train[0:int(inputs_train.shape[0]),:].mean(axis=0)\n",
    "inputStdDevs = inputs_train[0:int(inputs_train.shape[0]),:].std(axis=0)\n",
    "testset_np = (inputs_test-inputMeans)/inputStdDevs\n",
    "testset = torch.tensor(testset_np).float()\n",
    "\n",
    "outputMeans = outputs[0:int(outputs.shape[0]),:].mean(axis=0)\n",
    "outputStdDevs = outputs[0:int(outputs.shape[0]),:].std(axis=0)\n",
    "\n",
    "# put standardized input vectors through model\n",
    "results = []\n",
    "targets = []\n",
    "errors = []\n",
    "\n",
    "for i in range(len(testset)):\n",
    "    # get model output\n",
    "    model.eval()\n",
    "    test_output = model(testset[i])\n",
    "    test_output = test_output.detach().numpy()\n",
    "    \n",
    "    # unstandardize output\n",
    "    test_result = (test_output*outputStdDevs)+outputMeans\n",
    "    results.append(test_result)\n",
    "    \n",
    "    # get target result\n",
    "    targ_vec = outputs_test[i]\n",
    "    targets.append(targ_vec)\n",
    "    \n",
    "    # get accuracy\n",
    "    diff = np.linalg.norm(targ_vec - test_result)\n",
    "    mag = np.linalg.norm(targ_vec)\n",
    "    error = (diff/mag)*100\n",
    "    errors.append(error)"
   ]
  },
  {
   "cell_type": "code",
   "execution_count": null,
   "metadata": {},
   "outputs": [],
   "source": [
    "np.mean(errors)"
   ]
  }
 ],
 "metadata": {
  "kernelspec": {
   "display_name": "Python 3",
   "language": "python",
   "name": "python3"
  },
  "language_info": {
   "codemirror_mode": {
    "name": "ipython",
    "version": 3
   },
   "file_extension": ".py",
   "mimetype": "text/x-python",
   "name": "python",
   "nbconvert_exporter": "python",
   "pygments_lexer": "ipython3",
   "version": "3.6.4"
  }
 },
 "nbformat": 4,
 "nbformat_minor": 2
}
